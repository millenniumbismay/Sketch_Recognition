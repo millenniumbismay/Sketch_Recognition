{
 "cells": [
  {
   "cell_type": "code",
   "execution_count": 1,
   "metadata": {},
   "outputs": [],
   "source": [
    "import pandas as pd\n",
    "import numpy as np\n",
    "from math import *\n",
    "import os"
   ]
  },
  {
   "cell_type": "code",
   "execution_count": 42,
   "metadata": {},
   "outputs": [
    {
     "data": {
      "text/html": [
       "<div>\n",
       "<style scoped>\n",
       "    .dataframe tbody tr th:only-of-type {\n",
       "        vertical-align: middle;\n",
       "    }\n",
       "\n",
       "    .dataframe tbody tr th {\n",
       "        vertical-align: top;\n",
       "    }\n",
       "\n",
       "    .dataframe thead th {\n",
       "        text-align: right;\n",
       "    }\n",
       "</style>\n",
       "<table border=\"1\" class=\"dataframe\">\n",
       "  <thead>\n",
       "    <tr style=\"text-align: right;\">\n",
       "      <th></th>\n",
       "      <th>x</th>\n",
       "      <th>y</th>\n",
       "      <th>time</th>\n",
       "    </tr>\n",
       "  </thead>\n",
       "  <tbody>\n",
       "    <tr>\n",
       "      <th>0</th>\n",
       "      <td>677</td>\n",
       "      <td>251</td>\n",
       "      <td>1156964058266</td>\n",
       "    </tr>\n",
       "    <tr>\n",
       "      <th>1</th>\n",
       "      <td>677</td>\n",
       "      <td>252</td>\n",
       "      <td>1156964058437</td>\n",
       "    </tr>\n",
       "    <tr>\n",
       "      <th>2</th>\n",
       "      <td>677</td>\n",
       "      <td>256</td>\n",
       "      <td>1156964058453</td>\n",
       "    </tr>\n",
       "    <tr>\n",
       "      <th>3</th>\n",
       "      <td>674</td>\n",
       "      <td>267</td>\n",
       "      <td>1156964058469</td>\n",
       "    </tr>\n",
       "    <tr>\n",
       "      <th>4</th>\n",
       "      <td>666</td>\n",
       "      <td>292</td>\n",
       "      <td>1156964058484</td>\n",
       "    </tr>\n",
       "  </tbody>\n",
       "</table>\n",
       "</div>"
      ],
      "text/plain": [
       "     x    y           time\n",
       "0  677  251  1156964058266\n",
       "1  677  252  1156964058437\n",
       "2  677  256  1156964058453\n",
       "3  674  267  1156964058469\n",
       "4  666  292  1156964058484"
      ]
     },
     "execution_count": 42,
     "metadata": {},
     "output_type": "execute_result"
    }
   ],
   "source": [
    "sample_data_folder = \"./data/sample-csv/\"\n",
    "# for sample_data in os.listdir(sample_data_folder):\n",
    "data_1 = pd.read_csv(sample_data_folder+'shape_1.csv')\n",
    "data_2 = pd.read_csv(sample_data_folder+'shape_2.csv')\n",
    "data_3 = pd.read_csv(sample_data_folder+'shape_3.csv')\n",
    "data = data_3\n",
    "# data = data.reset_index()\n",
    "data.head()"
   ]
  },
  {
   "cell_type": "code",
   "execution_count": 43,
   "metadata": {},
   "outputs": [
    {
     "name": "stdout",
     "output_type": "stream",
     "text": [
      "5 0 5.0\n",
      "0.0 1.0\n"
     ]
    }
   ],
   "source": [
    "### Finding f01(cosine) and f02(sine) of starting angles\n",
    "dely, delx = data.iloc[2,1] - data.iloc[0,1], data.iloc[2,0] - data.iloc[0,0]\n",
    "hyp = sqrt(np.square(dely) + np.square(delx))\n",
    "print(dely, delx, hyp)\n",
    "f01 = np.divide(delx,hyp)\n",
    "f02 = np.divide(dely,hyp)\n",
    "print(f01, f02)"
   ]
  },
  {
   "cell_type": "code",
   "execution_count": 44,
   "metadata": {},
   "outputs": [
    {
     "name": "stdout",
     "output_type": "stream",
     "text": [
      "458 530 821 251\n",
      "457.83184686083166 0.6552961056874833\n"
     ]
    }
   ],
   "source": [
    "### Finding f03(bbox diagonal and bbox angle)\n",
    "\n",
    "x_min = data['x'].min()\n",
    "x_max = data['x'].max()\n",
    "y_min = data['y'].min()\n",
    "y_max = data['y'].max()\n",
    "print(x_min, y_max, x_max, y_min)\n",
    "\n",
    "del_y, del_x = y_max - y_min, x_max - x_min\n",
    "f03 = sqrt(np.square(del_x)+np.square(del_y))\n",
    "f04 = atan2(del_y, del_x)\n",
    "print(f03, f04)"
   ]
  },
  {
   "cell_type": "code",
   "execution_count": 45,
   "metadata": {},
   "outputs": [
    {
     "name": "stdout",
     "output_type": "stream",
     "text": [
      "102.1420579389313\n"
     ]
    }
   ],
   "source": [
    "### Finding f05 - Distance between Endpoints\n",
    "\n",
    "del_y, del_x = data.iloc[-1,1] - data.iloc[0,1], data.iloc[-1,0] - data.iloc[0,0]\n",
    "f05 = sqrt(np.square(del_x) + np.square(del_y))\n",
    "print(f05)"
   ]
  },
  {
   "cell_type": "code",
   "execution_count": 46,
   "metadata": {},
   "outputs": [
    {
     "name": "stdout",
     "output_type": "stream",
     "text": [
      "0.9496577801280875 0.31328916457833816\n"
     ]
    }
   ],
   "source": [
    "### Finding f06 (cosine) and f07 (sine) of angle between enpoints\n",
    "\n",
    "f06 = np.divide(del_x, f05)\n",
    "f07 = np.divide(del_y, f05)\n",
    "print(f06, f07)"
   ]
  },
  {
   "cell_type": "code",
   "execution_count": 47,
   "metadata": {},
   "outputs": [
    {
     "name": "stdout",
     "output_type": "stream",
     "text": [
      "966.8944315663077\n"
     ]
    }
   ],
   "source": [
    "### Finding f08(Stroke Length)\n",
    "f08 = 0\n",
    "rows, columns = data.shape\n",
    "\n",
    "for i in range(1, rows):\n",
    "    del_x = data.iloc[i, 0] - data.iloc[i-1, 0]\n",
    "    del_y = data.iloc[i, 1] - data.iloc[i-1, 1]\n",
    "    f08 += sqrt(np.square(del_x) + np.square(del_y))\n",
    "print(f08)"
   ]
  },
  {
   "cell_type": "code",
   "execution_count": 61,
   "metadata": {},
   "outputs": [
    {
     "name": "stdout",
     "output_type": "stream",
     "text": [
      "-1.570796326795 8.571304275314 2.511303338828\n"
     ]
    }
   ],
   "source": [
    "### Finding f09(Total relative roation), f10(total absolute rotation), f11(total squared rotation)\n",
    "\n",
    "f09 = 0\n",
    "f10 = 0\n",
    "f11 = 0\n",
    "rows, columns = data.shape\n",
    "\n",
    "for i in range(2,rows):\n",
    "    del_xi = data.iloc[i, 0] - data.iloc[i-1, 0]\n",
    "    del_xiprev = data.iloc[i-1, 0] - data.iloc[i-2, 0]\n",
    "    del_yi = data.iloc[i, 1] - data.iloc[i-1, 1]\n",
    "    del_yiprev = data.iloc[i-1, 1] - data.iloc[i-2, 1]\n",
    "\n",
    "    theta = atan2((del_yiprev*del_xi - del_yi*del_xiprev), (del_xi*del_xiprev + del_yi*del_yiprev))\n",
    "\n",
    "    f09 += theta\n",
    "    f10 += abs(theta)\n",
    "    f11 += np.square(theta)\n",
    "\n",
    "print(round(f09,12), round(f10,12), round(f11,12))\n",
    "\n",
    "\n"
   ]
  },
  {
   "cell_type": "code",
   "execution_count": 60,
   "metadata": {},
   "outputs": [
    {
     "name": "stdout",
     "output_type": "stream",
     "text": [
      "Sampling Rate error\n",
      "Sampling Rate error\n",
      "Sampling Rate error\n",
      "Sampling Rate error\n",
      "Sampling Rate error\n",
      "Sampling Rate error\n",
      "Sampling Rate error\n",
      "Sampling Rate error\n",
      "12.86328125\n"
     ]
    }
   ],
   "source": [
    "### Finding f12(maximum speed squared)\n",
    "\n",
    "rows, columns = data.shape\n",
    "speed_sq = []\n",
    "\n",
    "for i in range(1, rows):\n",
    "\n",
    "    del_t = data.iloc[i, 2] - data.iloc[i-1, 2]\n",
    "    if del_t<=0:\n",
    "        print(\"Sampling Rate error\")\n",
    "        continue\n",
    "\n",
    "    del_x = data.iloc[i, 0] - data.iloc[i-1, 0]\n",
    "    del_y = data.iloc[i, 1] - data.iloc[i-1, 1]\n",
    "    speed_sq.append(np.divide((np.square(del_x) + np.square(del_y)), np.square(del_t)))\n",
    "\n",
    "f12 = max(speed_sq)\n",
    "print(round(f12,12))"
   ]
  },
  {
   "cell_type": "code",
   "execution_count": 58,
   "metadata": {},
   "outputs": [
    {
     "name": "stdout",
     "output_type": "stream",
     "text": [
      "812\n"
     ]
    }
   ],
   "source": [
    "### Finding f13(Total_duration)\n",
    "\n",
    "f13 = data.iloc[-1,2] - data.iloc[0,2]\n",
    "print(f13)"
   ]
  },
  {
   "cell_type": "code",
   "execution_count": null,
   "metadata": {},
   "outputs": [],
   "source": []
  },
  {
   "cell_type": "code",
   "execution_count": null,
   "metadata": {},
   "outputs": [],
   "source": []
  }
 ],
 "metadata": {
  "kernelspec": {
   "display_name": "Python 3.9.12 ('base')",
   "language": "python",
   "name": "python3"
  },
  "language_info": {
   "codemirror_mode": {
    "name": "ipython",
    "version": 3
   },
   "file_extension": ".py",
   "mimetype": "text/x-python",
   "name": "python",
   "nbconvert_exporter": "python",
   "pygments_lexer": "ipython3",
   "version": "3.9.12"
  },
  "orig_nbformat": 4,
  "vscode": {
   "interpreter": {
    "hash": "db5f004e2c4cc8fc96863a009b6f1778bb670a3e6c944f91876f05b2b83c6909"
   }
  }
 },
 "nbformat": 4,
 "nbformat_minor": 2
}
